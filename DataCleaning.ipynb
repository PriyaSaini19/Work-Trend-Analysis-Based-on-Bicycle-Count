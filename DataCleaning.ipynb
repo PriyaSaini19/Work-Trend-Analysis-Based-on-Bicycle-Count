{
  "nbformat": 4,
  "nbformat_minor": 0,
  "metadata": {
    "colab": {
      "name": "DataCleaning.ipynb",
      "version": "0.3.2",
      "provenance": [],
      "collapsed_sections": []
    },
    "kernelspec": {
      "name": "python3",
      "display_name": "Python 3"
    }
  },
  "cells": [
    {
      "cell_type": "code",
      "metadata": {
        "id": "O86h1_6L64S7",
        "colab_type": "code",
        "colab": {}
      },
      "source": [
        "import pandas as pd\n",
        "a = pd.read_csv(\"weather_data.csv\")"
      ],
      "execution_count": 0,
      "outputs": []
    },
    {
      "cell_type": "code",
      "metadata": {
        "id": "t3De7RK7A9FQ",
        "colab_type": "code",
        "colab": {}
      },
      "source": [
        "#removing the unnecessary data columns\n",
        "a.drop([\"Data Quality\",\"Max Temp Flag\",\"Min Temp Flag\",\"Mean Temp Flag\",\"Heat Deg Days (°C)\",\"Heat Deg Days Flag\",\"Cool Deg Days (°C)\",\"Cool Deg Days Flag\"], axis = 1, inplace = True)"
      ],
      "execution_count": 0,
      "outputs": []
    },
    {
      "cell_type": "code",
      "metadata": {
        "id": "P5PpEfUrCQQC",
        "colab_type": "code",
        "colab": {}
      },
      "source": [
        "#removing the unnecessary data columns\n",
        "a.drop([\"Total Rain Flag\", \"Total Snow Flag\", \"Total Precip Flag\", \"Snow on Grnd Flag\", \"Dir of Max Gust Flag\", \"Spd of Max Gust Flag\"], axis = 1, inplace = True)"
      ],
      "execution_count": 0,
      "outputs": []
    },
    {
      "cell_type": "code",
      "metadata": {
        "id": "BlCNWI3-Epza",
        "colab_type": "code",
        "colab": {}
      },
      "source": [
        "#saving the new data in the finalW.csv file\n",
        "d1=pd.DataFrame(pd.np.repeat(a.values,24,axis=0),columns=a.columns)\n",
        "d1.to_csv('finalW.csv')"
      ],
      "execution_count": 0,
      "outputs": []
    }
  ]
}