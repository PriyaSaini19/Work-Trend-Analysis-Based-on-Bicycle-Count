{
  "nbformat": 4,
  "nbformat_minor": 0,
  "metadata": {
    "colab": {
      "name": "merging_data_files.ipynb",
      "version": "0.3.2",
      "provenance": []
    },
    "kernelspec": {
      "name": "python3",
      "display_name": "Python 3"
    }
  },
  "cells": [
    {
      "cell_type": "code",
      "metadata": {
        "id": "Az_YPk2qdneu",
        "colab_type": "code",
        "colab": {}
      },
      "source": [
        "import pandas as pd\n",
        "#reading weather data file and the bike counts file\n",
        "a = pd.read_csv(\"finalW.csv\")\n",
        "b = pd.read_csv(\"bike_count.csv\")"
      ],
      "execution_count": 0,
      "outputs": []
    },
    {
      "cell_type": "code",
      "metadata": {
        "id": "HqPIBghxev3m",
        "colab_type": "code",
        "colab": {}
      },
      "source": [
        "#merging weather data file with the bike counts file\n",
        "df3 = pd.merge(b, a)"
      ],
      "execution_count": 0,
      "outputs": []
    },
    {
      "cell_type": "code",
      "metadata": {
        "id": "E8cDE5h4fTer",
        "colab_type": "code",
        "colab": {}
      },
      "source": [
        "df3.to_csv('finalD.csv')"
      ],
      "execution_count": 0,
      "outputs": []
    }
  ]
}